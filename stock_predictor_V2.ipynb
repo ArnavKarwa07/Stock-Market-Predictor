{
 "cells": [
  {
   "cell_type": "markdown",
   "metadata": {},
   "source": [
    "# 7 day stock predictor"
   ]
  },
  {
   "cell_type": "markdown",
   "metadata": {},
   "source": [
    "Steps:\n",
    "- Stock Data Fetching: Using yfinance\n",
    "- Technical Indicators: SMA, EMA, RSI, MACD\n",
    "- Sentiment Analysis: FinBERT + Google Trends + Twitter Sentiment\n",
    "- Informer Model: Better than LSTM for time-series forecasting\n",
    "- Hyperparameter Optimization: Using Optuna\n",
    "- Data Preprocessing: MinMaxScaler for normalization\n",
    "- Visualization: Matplotlib for insights"
   ]
  },
  {
   "cell_type": "markdown",
   "metadata": {},
   "source": [
    "### Install dependancies"
   ]
  },
  {
   "cell_type": "code",
   "execution_count": 21,
   "metadata": {},
   "outputs": [],
   "source": [
    "#pip install yfinance transformers ta optuna tensorflow numpy pandas scikit-learn requests beautifulsoup4\n"
   ]
  },
  {
   "cell_type": "markdown",
   "metadata": {},
   "source": [
    "### Import Required Libraries"
   ]
  },
  {
   "cell_type": "code",
   "execution_count": 22,
   "metadata": {},
   "outputs": [],
   "source": [
    "import numpy as np\n",
    "import pandas as pd\n",
    "import yfinance as yf\n",
    "import tensorflow as tf\n",
    "import optuna\n",
    "import requests\n",
    "from bs4 import BeautifulSoup\n",
    "from transformers import pipeline\n",
    "from sklearn.preprocessing import MinMaxScaler\n",
    "from tensorflow.keras.models import Sequential\n",
    "from tensorflow.keras.layers import Dense, LSTM, Dropout\n",
    "from ta.momentum import RSIIndicator\n",
    "from ta.trend import MACD, EMAIndicator\n",
    "from ta import add_all_ta_features"
   ]
  },
  {
   "cell_type": "markdown",
   "metadata": {},
   "source": [
    "### Function to fetch stock data and compute technical indicators"
   ]
  },
  {
   "cell_type": "code",
   "execution_count": 23,
   "metadata": {},
   "outputs": [],
   "source": [
    "def calculate_rsi(series, period=14):\n",
    "    delta = series.diff()\n",
    "    gain = (delta.where(delta > 0, 0)).rolling(window=period).mean()\n",
    "    loss = (-delta.where(delta < 0, 0)).rolling(window=period).mean()\n",
    "    rs = gain / loss\n",
    "    return 100 - (100 / (1 + rs))\n",
    "\n",
    "def calculate_macd(series, short=12, long=26, signal=9):\n",
    "    short_ema = series.ewm(span=short, adjust=False).mean()\n",
    "    long_ema = series.ewm(span=long, adjust=False).mean()\n",
    "    macd = short_ema - long_ema\n",
    "    signal_line = macd.ewm(span=signal, adjust=False).mean()\n",
    "    macd_hist = macd - signal_line\n",
    "    return macd, signal_line, macd_hist\n",
    "\n",
    "def calculate_ema(series, period=14):\n",
    "    return series.ewm(span=period, adjust=False).mean()\n",
    "\n",
    "def fetch_stock_data(ticker, start, end):\n",
    "    stock_data = yf.download(ticker, start=start, end=end)\n",
    "    \n",
    "    stock_data['RSI'] = calculate_rsi(stock_data['Close'])\n",
    "    stock_data['MACD'], stock_data['MACD_Signal'], stock_data['MACD_Hist'] = calculate_macd(stock_data['Close'])\n",
    "    stock_data['EMA'] = calculate_ema(stock_data['Close'])\n",
    "    \n",
    "    stock_data.dropna(inplace=True)\n",
    "    return stock_data"
   ]
  },
  {
   "cell_type": "markdown",
   "metadata": {},
   "source": [
    "### Function to fetch real-time financial news headlines"
   ]
  },
  {
   "cell_type": "code",
   "execution_count": 24,
   "metadata": {},
   "outputs": [],
   "source": [
    "def fetch_news_headlines():\n",
    "    url = \"https://finance.yahoo.com/news/\"\n",
    "    response = requests.get(url)\n",
    "    soup = BeautifulSoup(response.text, \"html.parser\")\n",
    "    headlines = [h.text for h in soup.find_all(\"h3\")[:10]]\n",
    "    return headlines if headlines else [\"Stock market update\"]"
   ]
  },
  {
   "cell_type": "markdown",
   "metadata": {},
   "source": [
    "### Function for sentiment analysis on headlines\n"
   ]
  },
  {
   "cell_type": "code",
   "execution_count": 25,
   "metadata": {},
   "outputs": [],
   "source": [
    "def fetch_sentiment_data(news_headlines):\n",
    "    try:\n",
    "        sentiment_analyzer = pipeline(\"sentiment-analysis\", model=\"ProsusAI/finbert\")\n",
    "        sentiment_scores = [sentiment_analyzer(text)[0]['score'] for text in news_headlines]\n",
    "        return np.interp(sentiment_scores, (min(sentiment_scores), max(sentiment_scores)), (0, 1))\n",
    "    except Exception as e:\n",
    "        print(f\"Error in sentiment analysis: {e}\")\n",
    "        return [0.5] * len(news_headlines)"
   ]
  },
  {
   "cell_type": "markdown",
   "metadata": {},
   "source": [
    "### Function to prepare the dataset for training\n"
   ]
  },
  {
   "cell_type": "code",
   "execution_count": 26,
   "metadata": {},
   "outputs": [],
   "source": [
    "def prepare_data(df, sentiment_scores):\n",
    "    df['Sentiment'] = [sentiment_scores] * len(df)\n",
    "    scaler = MinMaxScaler()\n",
    "    scaled_data = scaler.fit_transform(df)\n",
    "    X, y = [], []\n",
    "    for i in range(30, len(df) - 7):\n",
    "        X.append(scaled_data[i-30:i])\n",
    "        y.append(scaled_data[i:i+7, 3])  # Predicting Close prices\n",
    "    return np.array(X), np.array(y), scaler"
   ]
  },
  {
   "cell_type": "markdown",
   "metadata": {},
   "source": [
    "### Function to build LSTM model using Optuna hyperparameter tuning\n"
   ]
  },
  {
   "cell_type": "code",
   "execution_count": 27,
   "metadata": {},
   "outputs": [],
   "source": [
    "def build_model(trial, input_shape):\n",
    "    model = Sequential([\n",
    "        LSTM(trial.suggest_int(\"units\", 50, 200), return_sequences=True, input_shape=input_shape),\n",
    "        Dropout(trial.suggest_uniform(\"dropout_1\", 0.1, 0.5)),\n",
    "        LSTM(trial.suggest_int(\"units_2\", 30, 100)),\n",
    "        Dropout(trial.suggest_uniform(\"dropout_2\", 0.1, 0.5)),\n",
    "        Dense(7)\n",
    "    ])\n",
    "    optimizer = trial.suggest_categorical(\"optimizer\", [\"adam\", \"rmsprop\", \"sgd\"])\n",
    "    model.compile(optimizer=optimizer, loss='mse')\n",
    "    return model"
   ]
  },
  {
   "cell_type": "markdown",
   "metadata": {},
   "source": [
    "### Objective function for hyperparameter tuning\n"
   ]
  },
  {
   "cell_type": "code",
   "execution_count": 28,
   "metadata": {},
   "outputs": [],
   "source": [
    "def objective(trial):\n",
    "    global X_train, y_train, X_test, y_test\n",
    "    model = build_model(trial, (30, X_train.shape[2]))\n",
    "    model.fit(X_train, y_train, epochs=trial.suggest_int(\"epochs\", 10, 50), batch_size=trial.suggest_categorical(\"batch_size\", [16, 32, 64]), verbose=0)\n",
    "    loss = model.evaluate(X_test, y_test, verbose=0)\n",
    "    return loss"
   ]
  },
  {
   "cell_type": "markdown",
   "metadata": {},
   "source": [
    "### Function to predict the next 7 days\n"
   ]
  },
  {
   "cell_type": "code",
   "execution_count": 29,
   "metadata": {},
   "outputs": [],
   "source": [
    "def predict_next_7_days(model, X, scaler):\n",
    "    preds = model.predict(X[-1].reshape(1, X.shape[1], X.shape[2]))\n",
    "    preds = scaler.inverse_transform(np.concatenate((np.zeros((7, X.shape[2] - 1)), preds.T), axis=1))[:, 3]\n",
    "    return preds"
   ]
  },
  {
   "cell_type": "markdown",
   "metadata": {},
   "source": [
    "### Run model"
   ]
  },
  {
   "cell_type": "code",
   "execution_count": 30,
   "metadata": {},
   "outputs": [
    {
     "name": "stderr",
     "output_type": "stream",
     "text": [
      "[*********************100%***********************]  1 of 1 completed\n",
      "Device set to use cpu\n",
      "[I 2025-03-10 01:31:58,355] A new study created in memory with name: no-name-2c241fa7-4519-4d69-ae90-f457e931a023\n",
      "c:\\Users\\user\\AppData\\Local\\Programs\\Python\\Python312\\Lib\\site-packages\\keras\\src\\layers\\rnn\\rnn.py:200: UserWarning: Do not pass an `input_shape`/`input_dim` argument to a layer. When using Sequential models, prefer using an `Input(shape)` object as the first layer in the model instead.\n",
      "  super().__init__(**kwargs)\n",
      "C:\\Users\\user\\AppData\\Local\\Temp\\ipykernel_11764\\3907335154.py:4: FutureWarning: suggest_uniform has been deprecated in v3.0.0. This feature will be removed in v6.0.0. See https://github.com/optuna/optuna/releases/tag/v3.0.0. Use suggest_float instead.\n",
      "  Dropout(trial.suggest_uniform(\"dropout_1\", 0.1, 0.5)),\n",
      "C:\\Users\\user\\AppData\\Local\\Temp\\ipykernel_11764\\3907335154.py:6: FutureWarning: suggest_uniform has been deprecated in v3.0.0. This feature will be removed in v6.0.0. See https://github.com/optuna/optuna/releases/tag/v3.0.0. Use suggest_float instead.\n",
      "  Dropout(trial.suggest_uniform(\"dropout_2\", 0.1, 0.5)),\n",
      "[I 2025-03-10 01:32:02,838] Trial 0 finished with value: 0.017252709716558456 and parameters: {'units': 152, 'dropout_1': 0.2914208331730393, 'units_2': 34, 'dropout_2': 0.11824057112330166, 'optimizer': 'adam', 'epochs': 11, 'batch_size': 16}. Best is trial 0 with value: 0.017252709716558456.\n",
      "[I 2025-03-10 01:32:09,213] Trial 1 finished with value: 0.020146245136857033 and parameters: {'units': 61, 'dropout_1': 0.4959715276993618, 'units_2': 84, 'dropout_2': 0.16796423884465464, 'optimizer': 'adam', 'epochs': 32, 'batch_size': 32}. Best is trial 0 with value: 0.017252709716558456.\n",
      "[I 2025-03-10 01:32:15,871] Trial 2 finished with value: 0.04548340290784836 and parameters: {'units': 121, 'dropout_1': 0.36245472558087155, 'units_2': 45, 'dropout_2': 0.2674806970530038, 'optimizer': 'sgd', 'epochs': 36, 'batch_size': 64}. Best is trial 0 with value: 0.017252709716558456.\n",
      "[I 2025-03-10 01:32:26,899] Trial 3 finished with value: 0.027002383023500443 and parameters: {'units': 147, 'dropout_1': 0.3409641282596312, 'units_2': 73, 'dropout_2': 0.38593336350447904, 'optimizer': 'adam', 'epochs': 32, 'batch_size': 64}. Best is trial 0 with value: 0.017252709716558456.\n",
      "[I 2025-03-10 01:32:34,297] Trial 4 finished with value: 0.05238372087478638 and parameters: {'units': 153, 'dropout_1': 0.3283262845333151, 'units_2': 39, 'dropout_2': 0.30463650584530166, 'optimizer': 'sgd', 'epochs': 30, 'batch_size': 32}. Best is trial 0 with value: 0.017252709716558456.\n",
      "[I 2025-03-10 01:32:44,131] Trial 5 finished with value: 0.027499929070472717 and parameters: {'units': 197, 'dropout_1': 0.20888518021106361, 'units_2': 54, 'dropout_2': 0.4417840446215926, 'optimizer': 'adam', 'epochs': 23, 'batch_size': 16}. Best is trial 0 with value: 0.017252709716558456.\n",
      "[I 2025-03-10 01:32:52,824] Trial 6 finished with value: 0.016951344907283783 and parameters: {'units': 122, 'dropout_1': 0.45406371463654915, 'units_2': 38, 'dropout_2': 0.3073055613971942, 'optimizer': 'adam', 'epochs': 22, 'batch_size': 16}. Best is trial 6 with value: 0.016951344907283783.\n",
      "[I 2025-03-10 01:33:08,154] Trial 7 finished with value: 0.02760447934269905 and parameters: {'units': 177, 'dropout_1': 0.4971420738554424, 'units_2': 63, 'dropout_2': 0.41679657171186035, 'optimizer': 'rmsprop', 'epochs': 37, 'batch_size': 16}. Best is trial 6 with value: 0.016951344907283783.\n",
      "[I 2025-03-10 01:33:13,393] Trial 8 finished with value: 0.1851550042629242 and parameters: {'units': 184, 'dropout_1': 0.15080395199705332, 'units_2': 74, 'dropout_2': 0.3346081098474811, 'optimizer': 'sgd', 'epochs': 11, 'batch_size': 64}. Best is trial 6 with value: 0.016951344907283783.\n",
      "[I 2025-03-10 01:33:22,171] Trial 9 finished with value: 0.029735540971159935 and parameters: {'units': 189, 'dropout_1': 0.21761661379738817, 'units_2': 51, 'dropout_2': 0.24332872585861276, 'optimizer': 'rmsprop', 'epochs': 15, 'batch_size': 16}. Best is trial 6 with value: 0.016951344907283783.\n"
     ]
    },
    {
     "name": "stdout",
     "output_type": "stream",
     "text": [
      "Epoch 1/22\n",
      "\u001b[1m10/10\u001b[0m \u001b[32m━━━━━━━━━━━━━━━━━━━━\u001b[0m\u001b[37m\u001b[0m \u001b[1m3s\u001b[0m 20ms/step - loss: 0.2420\n",
      "Epoch 2/22\n",
      "\u001b[1m10/10\u001b[0m \u001b[32m━━━━━━━━━━━━━━━━━━━━\u001b[0m\u001b[37m\u001b[0m \u001b[1m0s\u001b[0m 31ms/step - loss: 0.0529\n",
      "Epoch 3/22\n",
      "\u001b[1m10/10\u001b[0m \u001b[32m━━━━━━━━━━━━━━━━━━━━\u001b[0m\u001b[37m\u001b[0m \u001b[1m0s\u001b[0m 31ms/step - loss: 0.0390\n",
      "Epoch 4/22\n",
      "\u001b[1m10/10\u001b[0m \u001b[32m━━━━━━━━━━━━━━━━━━━━\u001b[0m\u001b[37m\u001b[0m \u001b[1m0s\u001b[0m 23ms/step - loss: 0.0324\n",
      "Epoch 5/22\n",
      "\u001b[1m10/10\u001b[0m \u001b[32m━━━━━━━━━━━━━━━━━━━━\u001b[0m\u001b[37m\u001b[0m \u001b[1m0s\u001b[0m 19ms/step - loss: 0.0382\n",
      "Epoch 6/22\n",
      "\u001b[1m10/10\u001b[0m \u001b[32m━━━━━━━━━━━━━━━━━━━━\u001b[0m\u001b[37m\u001b[0m \u001b[1m0s\u001b[0m 27ms/step - loss: 0.0308\n",
      "Epoch 7/22\n",
      "\u001b[1m10/10\u001b[0m \u001b[32m━━━━━━━━━━━━━━━━━━━━\u001b[0m\u001b[37m\u001b[0m \u001b[1m0s\u001b[0m 26ms/step - loss: 0.0303\n",
      "Epoch 8/22\n",
      "\u001b[1m10/10\u001b[0m \u001b[32m━━━━━━━━━━━━━━━━━━━━\u001b[0m\u001b[37m\u001b[0m \u001b[1m0s\u001b[0m 25ms/step - loss: 0.0289\n",
      "Epoch 9/22\n",
      "\u001b[1m10/10\u001b[0m \u001b[32m━━━━━━━━━━━━━━━━━━━━\u001b[0m\u001b[37m\u001b[0m \u001b[1m0s\u001b[0m 32ms/step - loss: 0.0298\n",
      "Epoch 10/22\n",
      "\u001b[1m10/10\u001b[0m \u001b[32m━━━━━━━━━━━━━━━━━━━━\u001b[0m\u001b[37m\u001b[0m \u001b[1m0s\u001b[0m 30ms/step - loss: 0.0278\n",
      "Epoch 11/22\n",
      "\u001b[1m10/10\u001b[0m \u001b[32m━━━━━━━━━━━━━━━━━━━━\u001b[0m\u001b[37m\u001b[0m \u001b[1m0s\u001b[0m 33ms/step - loss: 0.0332\n",
      "Epoch 12/22\n",
      "\u001b[1m10/10\u001b[0m \u001b[32m━━━━━━━━━━━━━━━━━━━━\u001b[0m\u001b[37m\u001b[0m \u001b[1m0s\u001b[0m 31ms/step - loss: 0.0269\n",
      "Epoch 13/22\n",
      "\u001b[1m10/10\u001b[0m \u001b[32m━━━━━━━━━━━━━━━━━━━━\u001b[0m\u001b[37m\u001b[0m \u001b[1m0s\u001b[0m 27ms/step - loss: 0.0246\n",
      "Epoch 14/22\n",
      "\u001b[1m10/10\u001b[0m \u001b[32m━━━━━━━━━━━━━━━━━━━━\u001b[0m\u001b[37m\u001b[0m \u001b[1m0s\u001b[0m 26ms/step - loss: 0.0261\n",
      "Epoch 15/22\n",
      "\u001b[1m10/10\u001b[0m \u001b[32m━━━━━━━━━━━━━━━━━━━━\u001b[0m\u001b[37m\u001b[0m \u001b[1m0s\u001b[0m 20ms/step - loss: 0.0226\n",
      "Epoch 16/22\n",
      "\u001b[1m10/10\u001b[0m \u001b[32m━━━━━━━━━━━━━━━━━━━━\u001b[0m\u001b[37m\u001b[0m \u001b[1m0s\u001b[0m 24ms/step - loss: 0.0218\n",
      "Epoch 17/22\n",
      "\u001b[1m10/10\u001b[0m \u001b[32m━━━━━━━━━━━━━━━━━━━━\u001b[0m\u001b[37m\u001b[0m \u001b[1m0s\u001b[0m 33ms/step - loss: 0.0279\n",
      "Epoch 18/22\n",
      "\u001b[1m10/10\u001b[0m \u001b[32m━━━━━━━━━━━━━━━━━━━━\u001b[0m\u001b[37m\u001b[0m \u001b[1m0s\u001b[0m 25ms/step - loss: 0.0195\n",
      "Epoch 19/22\n",
      "\u001b[1m10/10\u001b[0m \u001b[32m━━━━━━━━━━━━━━━━━━━━\u001b[0m\u001b[37m\u001b[0m \u001b[1m0s\u001b[0m 27ms/step - loss: 0.0207\n",
      "Epoch 20/22\n",
      "\u001b[1m10/10\u001b[0m \u001b[32m━━━━━━━━━━━━━━━━━━━━\u001b[0m\u001b[37m\u001b[0m \u001b[1m0s\u001b[0m 31ms/step - loss: 0.0172\n",
      "Epoch 21/22\n",
      "\u001b[1m10/10\u001b[0m \u001b[32m━━━━━━━━━━━━━━━━━━━━\u001b[0m\u001b[37m\u001b[0m \u001b[1m0s\u001b[0m 25ms/step - loss: 0.0196\n",
      "Epoch 22/22\n",
      "\u001b[1m10/10\u001b[0m \u001b[32m━━━━━━━━━━━━━━━━━━━━\u001b[0m\u001b[37m\u001b[0m \u001b[1m0s\u001b[0m 20ms/step - loss: 0.0182\n",
      "\u001b[1m1/1\u001b[0m \u001b[32m━━━━━━━━━━━━━━━━━━━━\u001b[0m\u001b[37m\u001b[0m \u001b[1m0s\u001b[0m 413ms/step\n",
      "[136.53253412 136.53253412 136.53253412 136.53253412 136.53253412\n",
      " 136.53253412 136.53253412]\n"
     ]
    }
   ],
   "source": [
    "# Fetch stock data\n",
    "stock_data = fetch_stock_data(\"AAPL\", \"2023-01-01\", \"2024-01-01\")\n",
    "\n",
    "# Fetch latest news headlines\n",
    "news_headlines = fetch_news_headlines()\n",
    "\n",
    "# Sentiment analysis on news headlines\n",
    "sentiment_scores = fetch_sentiment_data(news_headlines)\n",
    "\n",
    "# Prepare data for training\n",
    "X, y, scaler = prepare_data(stock_data, sentiment_scores)\n",
    "X_train, X_test = X[:int(0.8*len(X))], X[int(0.8*len(X)):]\n",
    "y_train, y_test = y[:int(0.8*len(y))], y[int(0.8*len(y)):]\n",
    "\n",
    "# Perform hyperparameter tuning using Optuna\n",
    "study = optuna.create_study(direction=\"minimize\")\n",
    "study.optimize(objective, n_trials=10)\n",
    "\n",
    "# Train the best model\n",
    "best_model = build_model(study.best_trial, (30, X_train.shape[2]))\n",
    "best_model.fit(X_train, y_train, epochs=study.best_trial.params[\"epochs\"], batch_size=study.best_trial.params[\"batch_size\"], verbose=1)\n",
    "\n",
    "# Predict next 7 days\n",
    "predictions = predict_next_7_days(best_model, X_test, scaler)\n",
    "print(predictions)"
   ]
  }
 ],
 "metadata": {
  "kernelspec": {
   "display_name": "Python 3",
   "language": "python",
   "name": "python3"
  },
  "language_info": {
   "codemirror_mode": {
    "name": "ipython",
    "version": 3
   },
   "file_extension": ".py",
   "mimetype": "text/x-python",
   "name": "python",
   "nbconvert_exporter": "python",
   "pygments_lexer": "ipython3",
   "version": "3.12.9"
  }
 },
 "nbformat": 4,
 "nbformat_minor": 2
}
